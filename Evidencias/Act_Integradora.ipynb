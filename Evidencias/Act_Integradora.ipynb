{
 "cells": [
  {
   "cell_type": "markdown",
   "metadata": {},
   "source": [
    "# Instituto Tecnológico y de Estudios Superiores de Monterrey\n",
    "## Jesus Ramirez Delgado\n",
    "## Modelación de Sistemas Multiagentes con Gráficas Computacionales\n",
    "## Actividad Integradora \n",
    "\n",
    "## Parte 1: Sistemas Multiagentes\n",
    "### Descripción del problema\n",
    "\n",
    "¡Felicidades! Eres el orgulloso propietario de 5 robots nuevos y un almacén lleno de cajas. El dueño\n",
    "anterior del almacén lo dejó en completo desorden, por lo que depende de tus robots organizar las\n",
    "cajas en algo parecido al orden y convertirlo en un negocio exitoso.\n",
    "Cada robot está equipado con ruedas omnidireccionales y, por lo tanto, puede conducir en las\n",
    "cuatro direcciones. Pueden recoger cajas en celdas de cuadrícula adyacentes con sus\n",
    "manipuladores, luego llevarlas a otra ubicación e incluso construir pilas de hasta cinco cajas. Todos\n",
    "los robots están equipados con la tecnología de sensores más nueva que les permite recibir datos\n",
    "de sensores de las cuatro celdas adyacentes. Por tanto, es fácil distinguir si un campo está libre, es\n",
    "una pared, contiene una pila de cajas (y cuantas cajas hay en la pila) o está ocupado por otro robot.\n",
    "Los robots también tienen sensores de presión equipados que les indican si llevan una caja en ese\n",
    "momento.\n",
    "Lamentablemente, tu presupuesto resultó insuficiente para adquirir un software de gestión de\n",
    "agentes múltiples de última generación. Pero eso no debería ser un gran problema ... ¿verdad? Tu\n",
    "tarea es enseñar a sus robots cómo ordenar su almacén. La organización de los agentes depende de\n",
    "ti, siempre que todas las cajas terminen en pilas ordenadas de cinco.\n",
    "\n",
    "* Realiza la siguiente simulación:\n",
    "    * Inicializa las posiciones iniciales de las K cajas. Todas las cajas están a nivel de piso,\n",
    "    es decir, no hay pilas de cajas.\n",
    "    * Todos los agentes empiezan en posición aleatorias vacías.\n",
    "    * Se ejecuta el tiempo máximo establecido.\n",
    "\n",
    "* Deberás recopilar la siguiente información durante la ejecución:\n",
    "    * Tiempo necesario hasta que todas las cajas están en pilas de máximo 5 cajas\n",
    "    * Número de movimientos realizados por todos los robots.\n",
    "    * Analiza si existe una estrategia que podría disminuir el tiempo dedicado, así como\n",
    "    la cantidad de movimientos realizados. ¿Cómo sería? Descríbela."
   ]
  },
  {
   "cell_type": "code",
   "execution_count": null,
   "metadata": {},
   "outputs": [],
   "source": [
    "# Imports que se utilizaran\n",
    "import matplotlib\n",
    "from mesa import Agent, Model\n",
    "from mesa.time import RandomActivation\n",
    "from mesa.space import MultiGrid\n",
    "from mesa.datacollection import DataCollector\n",
    "\n",
    "import matplotlib.pyplot as plt\n",
    "import matplotlib.animation as animation\n",
    "import numpy as np\n",
    "import pandas as pd\n",
    "import time\n",
    "import datetime\n",
    "import random\n",
    "\n",
    "%matplotlib inline\n",
    "plt.rcParams[\"animation.html\"] = \"jshtml\"\n",
    "matplotlib.rcParams['animation.embed_limit'] = 2**128"
   ]
  },
  {
   "cell_type": "code",
   "execution_count": null,
   "metadata": {},
   "outputs": [],
   "source": [
    "class RobotAgent(Agent):\n",
    "    def __init__(self, id, model):\n",
    "        super().__init__(id, model)"
   ]
  },
  {
   "cell_type": "code",
   "execution_count": null,
   "metadata": {},
   "outputs": [],
   "source": [
    "class RobotModel(Model):\n",
    "    def __init__():\n",
    "        super().__init__()"
   ]
  }
 ],
 "metadata": {
  "language_info": {
   "name": "python"
  }
 },
 "nbformat": 4,
 "nbformat_minor": 2
}
